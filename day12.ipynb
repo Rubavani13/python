{
 "cells": [
  {
   "cell_type": "code",
   "execution_count": 1,
   "id": "e8ff149d-2b45-4255-92a1-9aa6040db1b5",
   "metadata": {},
   "outputs": [
    {
     "name": "stdout",
     "output_type": "stream",
     "text": [
      "4\n"
     ]
    }
   ],
   "source": [
    "l = [13,7,9,10]\n",
    "k = 0\n",
    "for i in l:\n",
    "    k+=1\n",
    "print(k)\n",
    "    "
   ]
  },
  {
   "cell_type": "code",
   "execution_count": 2,
   "id": "7d948c6d-3855-41a9-a71a-5601fd7469bf",
   "metadata": {},
   "outputs": [
    {
     "name": "stdout",
     "output_type": "stream",
     "text": [
      "2 even\n",
      "6 odd\n"
     ]
    }
   ],
   "source": [
    "l = [13,7,9,10,4,5,67,89]\n",
    "k = 0\n",
    "j = 0\n",
    "for i in l:\n",
    "    if i%2==0:\n",
    "        k+=1\n",
    "    else:\n",
    "        j+=1\n",
    "print(k,\"even\")\n",
    "print(j,\"odd\")"
   ]
  },
  {
   "cell_type": "code",
   "execution_count": null,
   "id": "1fe4ec4d-6a96-4458-957c-6320d94e46cf",
   "metadata": {},
   "outputs": [],
   "source": []
  }
 ],
 "metadata": {
  "kernelspec": {
   "display_name": "Python [conda env:base] *",
   "language": "python",
   "name": "conda-base-py"
  },
  "language_info": {
   "codemirror_mode": {
    "name": "ipython",
    "version": 3
   },
   "file_extension": ".py",
   "mimetype": "text/x-python",
   "name": "python",
   "nbconvert_exporter": "python",
   "pygments_lexer": "ipython3",
   "version": "3.12.7"
  }
 },
 "nbformat": 4,
 "nbformat_minor": 5
}
