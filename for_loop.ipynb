{
 "cells": [
  {
   "cell_type": "code",
   "execution_count": 3,
   "id": "b49e0fad-d938-4000-8a22-b3af6490f0bf",
   "metadata": {},
   "outputs": [
    {
     "name": "stdout",
     "output_type": "stream",
     "text": [
      "{1: 2, 2: 2, 3: 2, 4: 2, 5: 1, 6: 1, 9: 1}\n"
     ]
    }
   ],
   "source": [
    "l = [1,2,2,3,1,3,4,4,5,6,9]\n",
    "#outcome- {1:2,2:2,3:2}\n",
    "d = {}\n",
    "\n",
    "for i in l:\n",
    "    if i in d:\n",
    "        d[i] = d[i] + 1\n",
    "    else:\n",
    "        d[i] = 1\n",
    "print(d) "
   ]
  },
  {
   "cell_type": "code",
   "execution_count": null,
   "id": "d0e1a8d9-f946-4959-b761-7b71726f7cdd",
   "metadata": {},
   "outputs": [],
   "source": []
  }
 ],
 "metadata": {
  "kernelspec": {
   "display_name": "Python [conda env:base] *",
   "language": "python",
   "name": "conda-base-py"
  },
  "language_info": {
   "codemirror_mode": {
    "name": "ipython",
    "version": 3
   },
   "file_extension": ".py",
   "mimetype": "text/x-python",
   "name": "python",
   "nbconvert_exporter": "python",
   "pygments_lexer": "ipython3",
   "version": "3.12.7"
  }
 },
 "nbformat": 4,
 "nbformat_minor": 5
}
