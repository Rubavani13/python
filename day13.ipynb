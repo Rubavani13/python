{
 "cells": [
  {
   "cell_type": "code",
   "execution_count": 1,
   "id": "aed2c234-ea1d-4ca2-b4d5-27611ba8ec94",
   "metadata": {},
   "outputs": [
    {
     "ename": "SyntaxError",
     "evalue": "invalid syntax (1998106671.py, line 5)",
     "output_type": "error",
     "traceback": [
      "\u001b[1;36m  Cell \u001b[1;32mIn[1], line 5\u001b[1;36m\u001b[0m\n\u001b[1;33m    if i in\u001b[0m\n\u001b[1;37m            ^\u001b[0m\n\u001b[1;31mSyntaxError\u001b[0m\u001b[1;31m:\u001b[0m invalid syntax\n"
     ]
    }
   ],
   "source": [
    "text = \"madam\"\n",
    "s=[]\n",
    "b=[]\n",
    "for i in text:\n",
    "    if i in "
   ]
  },
  {
   "cell_type": "code",
   "execution_count": 6,
   "id": "b50895a5-0e4c-4316-bebc-8383b4b952aa",
   "metadata": {},
   "outputs": [
    {
     "name": "stdout",
     "output_type": "stream",
     "text": [
      "[1, 2, 3, 4, 5]\n"
     ]
    }
   ],
   "source": [
    "items=[1,2,2,3,4,4,5]\n",
    "x =[]\n",
    "for i in items:\n",
    "    if i not in x:\n",
    "        x.append(i)\n",
    "        \n",
    "print(x)"
   ]
  },
  {
   "cell_type": "code",
   "execution_count": 5,
   "id": "76158ad4-58d3-436f-898c-f1e0c2d7873d",
   "metadata": {},
   "outputs": [
    {
     "name": "stdout",
     "output_type": "stream",
     "text": [
      "[1, 2, 3, 4, 5]\n"
     ]
    }
   ],
   "source": [
    "items = [1, 2, 2, 3, 4, 4, 5]\n",
    "\n",
    "x = []\n",
    "for item in items:\n",
    "    if item not in x:\n",
    "        x.append(item)\n",
    "\n",
    "print(x)\n"
   ]
  },
  {
   "cell_type": "code",
   "execution_count": 8,
   "id": "dd4b9bec-866e-4c4c-a403-668a075e47c9",
   "metadata": {},
   "outputs": [
    {
     "name": "stdout",
     "output_type": "stream",
     "text": [
      "madam\n",
      "true\n"
     ]
    }
   ],
   "source": [
    "text = \"madam\"\n",
    "reversed_text =\"\"\n",
    "for i in text:\n",
    "    reversed_text = i + reversed_text\n",
    "print(reversed_text)\n",
    "if text == reversed_text:\n",
    "    print(\"true\")\n",
    "else:\n",
    "    print(\"false\")"
   ]
  },
  {
   "cell_type": "code",
   "execution_count": 11,
   "id": "06d0a238-e678-4ed3-a881-194cc2237784",
   "metadata": {},
   "outputs": [
    {
     "name": "stdout",
     "output_type": "stream",
     "text": [
      "[9, 12, 11, 8]\n"
     ]
    }
   ],
   "source": [
    "l1 = [2, 4, 5, 6]\n",
    "l2 = [7, 8,6, 2]\n",
    "\n",
    "l3 = []\n",
    "for i in range(len(l1)):\n",
    "    l3.append(l1[i]+l2[i])\n",
    "print(l3)"
   ]
  },
  {
   "cell_type": "code",
   "execution_count": null,
   "id": "882eac1f-5270-4c63-83d8-d14e2c3ce9b5",
   "metadata": {},
   "outputs": [],
   "source": []
  }
 ],
 "metadata": {
  "kernelspec": {
   "display_name": "Python [conda env:base] *",
   "language": "python",
   "name": "conda-base-py"
  },
  "language_info": {
   "codemirror_mode": {
    "name": "ipython",
    "version": 3
   },
   "file_extension": ".py",
   "mimetype": "text/x-python",
   "name": "python",
   "nbconvert_exporter": "python",
   "pygments_lexer": "ipython3",
   "version": "3.12.7"
  }
 },
 "nbformat": 4,
 "nbformat_minor": 5
}
